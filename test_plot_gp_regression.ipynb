{
 "cells": [
  {
   "cell_type": "markdown",
   "id": "dd1143b2-2b82-4b05-a011-3f5c05193e25",
   "metadata": {
    "tags": []
   },
   "source": [
    "# Imports"
   ]
  },
  {
   "cell_type": "code",
   "execution_count": null,
   "id": "e6878a50-b0d1-43b2-9126-7e5c4c7fef25",
   "metadata": {},
   "outputs": [],
   "source": [
    "%load_ext autoreload\n",
    "%autoreload 2\n",
    "\n",
    "import warnings\n",
    "warnings.simplefilter(\"ignore\")\n",
    "\n",
    "import numpy as np\n",
    "import pandas as pd\n",
    "\n",
    "from dataloader.load_regression_data import RegressionDataGenerator\n",
    "\n",
    "from utils.gaussian_processes.gp_model import GPModel\n",
    "from utils.get_dummy_data.get_data_from_function import get_df_from_1d_function, split_train_test"
   ]
  },
  {
   "cell_type": "markdown",
   "id": "eed63390-131d-414b-8d86-040665e0c81b",
   "metadata": {},
   "source": [
    "# Data"
   ]
  },
  {
   "cell_type": "code",
   "execution_count": null,
   "id": "eb25c8ac-8d53-4995-96ca-10a8d7ec6275",
   "metadata": {},
   "outputs": [],
   "source": [
    "def fct(x):\n",
    "    return np.sin(3*x) + 2 * x\n",
    "\n",
    "x_arr = np.linspace(0, 10, 100)"
   ]
  },
  {
   "cell_type": "code",
   "execution_count": null,
   "id": "a0f95cac-ed19-45f8-9ba5-e33fb41fce04",
   "metadata": {},
   "outputs": [],
   "source": [
    "df = get_df_from_1d_function(fct, x_arr)\n",
    "x_col = \"x\"\n",
    "y_col = \"y\"\n",
    "\n",
    "df.head()"
   ]
  },
  {
   "cell_type": "code",
   "execution_count": null,
   "id": "f11db743-ee1b-4d09-ab01-e67273cd8220",
   "metadata": {},
   "outputs": [],
   "source": [
    "df.plot(x=x_col, y=y_col);"
   ]
  },
  {
   "cell_type": "code",
   "execution_count": null,
   "id": "cc6453e4-2f6b-4a62-b790-1b00bd845295",
   "metadata": {},
   "outputs": [],
   "source": [
    "df_observed, df_predict = split_train_test(df, frac=0.5)"
   ]
  },
  {
   "cell_type": "code",
   "execution_count": null,
   "id": "f3bdc1f6-05d3-46ca-bcc6-d3f3c184da16",
   "metadata": {},
   "outputs": [],
   "source": [
    "df_predict.info()"
   ]
  },
  {
   "cell_type": "markdown",
   "id": "b0b450b6-7f3d-4701-81a4-38b808f1ce14",
   "metadata": {},
   "source": [
    "# Gaussian Process"
   ]
  },
  {
   "cell_type": "code",
   "execution_count": null,
   "id": "51561469-0abf-4789-9157-8435887453f1",
   "metadata": {},
   "outputs": [],
   "source": [
    "gp_model = GPModel()\n",
    "gp_model.fit(df_observed=df_observed, x_col=x_col, y_col=y_col, epochs=1000)"
   ]
  },
  {
   "cell_type": "code",
   "execution_count": null,
   "id": "a49abb5e-3c95-46d2-a28e-b5104af64ea0",
   "metadata": {},
   "outputs": [],
   "source": [
    "# TODO: Implement gp_model.plot_from_predictions\n",
    "# gp_model.plot_from_predictions()"
   ]
  },
  {
   "cell_type": "code",
   "execution_count": null,
   "id": "d9f81e07-808d-4b2a-94dd-2bf314352a84",
   "metadata": {},
   "outputs": [],
   "source": []
  }
 ],
 "metadata": {
  "kernelspec": {
   "display_name": "Python 3 (ipykernel)",
   "language": "python",
   "name": "python3"
  },
  "language_info": {
   "codemirror_mode": {
    "name": "ipython",
    "version": 3
   },
   "file_extension": ".py",
   "mimetype": "text/x-python",
   "name": "python",
   "nbconvert_exporter": "python",
   "pygments_lexer": "ipython3",
   "version": "3.10.8"
  }
 },
 "nbformat": 4,
 "nbformat_minor": 5
}
